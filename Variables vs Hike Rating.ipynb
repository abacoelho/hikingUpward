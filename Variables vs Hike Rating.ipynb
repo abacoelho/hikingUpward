{
 "cells": [
  {
   "cell_type": "code",
   "execution_count": 1,
   "metadata": {},
   "outputs": [],
   "source": [
    "import pandas as pd\n",
    "import re\n",
    "from textblob import TextBlob\n",
    "import matplotlib.pyplot as plt\n",
    "import seaborn as sns\n",
    "import statsmodels.formula.api as sm\n",
    "import warnings\n",
    "warnings.filterwarnings(\"ignore\")"
   ]
  },
  {
   "cell_type": "code",
   "execution_count": 2,
   "metadata": {},
   "outputs": [],
   "source": [
    "dfC = pd.read_pickle('HUReviewsTest.pkl')\n",
    "dfM = pd.read_pickle('HUmeta.pkl')"
   ]
  },
  {
   "cell_type": "code",
   "execution_count": 3,
   "metadata": {},
   "outputs": [
    {
     "data": {
      "text/html": [
       "<div>\n",
       "<style scoped>\n",
       "    .dataframe tbody tr th:only-of-type {\n",
       "        vertical-align: middle;\n",
       "    }\n",
       "\n",
       "    .dataframe tbody tr th {\n",
       "        vertical-align: top;\n",
       "    }\n",
       "\n",
       "    .dataframe thead th {\n",
       "        text-align: right;\n",
       "    }\n",
       "</style>\n",
       "<table border=\"1\" class=\"dataframe\">\n",
       "  <thead>\n",
       "    <tr style=\"text-align: right;\">\n",
       "      <th></th>\n",
       "      <th>hike</th>\n",
       "      <th>url</th>\n",
       "      <th>commenter</th>\n",
       "      <th>hikeDate</th>\n",
       "      <th>rating</th>\n",
       "      <th>description</th>\n",
       "    </tr>\n",
       "  </thead>\n",
       "  <tbody>\n",
       "    <tr>\n",
       "      <th>2121</th>\n",
       "      <td>Annapolis Rock/Black Rock Cliff Hike</td>\n",
       "      <td>https://www.hikingupward.com/all_reviews.asp?H...</td>\n",
       "      <td>By: Susanna</td>\n",
       "      <td>2017-07-16</td>\n",
       "      <td>4</td>\n",
       "      <td>This was a beautiful (albeit crowded) hike -- ...</td>\n",
       "    </tr>\n",
       "    <tr>\n",
       "      <th>2120</th>\n",
       "      <td>Annapolis Rock/Black Rock Cliff Hike</td>\n",
       "      <td>https://www.hikingupward.com/all_reviews.asp?H...</td>\n",
       "      <td>By: Lyn</td>\n",
       "      <td>2017-10-22</td>\n",
       "      <td>4</td>\n",
       "      <td>This is a very nice hike. You have to walk a l...</td>\n",
       "    </tr>\n",
       "    <tr>\n",
       "      <th>2137</th>\n",
       "      <td>Annapolis Rock/Black Rock Cliff Hike</td>\n",
       "      <td>https://www.hikingupward.com/all_reviews.asp?H...</td>\n",
       "      <td>&lt;!--  var contact = \"Gary D.\"  var posteddate ...</td>\n",
       "      <td>1912-07-22</td>\n",
       "      <td>3</td>\n",
       "      <td>Sunday, starting at 0825. Hike time. including...</td>\n",
       "    </tr>\n",
       "    <tr>\n",
       "      <th>2136</th>\n",
       "      <td>Annapolis Rock/Black Rock Cliff Hike</td>\n",
       "      <td>https://www.hikingupward.com/all_reviews.asp?H...</td>\n",
       "      <td>By: John</td>\n",
       "      <td>1914-05-18</td>\n",
       "      <td>4</td>\n",
       "      <td>This is a good hike for kids who can walk a fe...</td>\n",
       "    </tr>\n",
       "    <tr>\n",
       "      <th>2135</th>\n",
       "      <td>Annapolis Rock/Black Rock Cliff Hike</td>\n",
       "      <td>https://www.hikingupward.com/all_reviews.asp?H...</td>\n",
       "      <td>&lt;!--  var contact = \"ajw\"  var posteddate = \"7...</td>\n",
       "      <td>2011-07-31</td>\n",
       "      <td>3</td>\n",
       "      <td>As HU observed, definitely not for anyone who ...</td>\n",
       "    </tr>\n",
       "    <tr>\n",
       "      <th>...</th>\n",
       "      <td>...</td>\n",
       "      <td>...</td>\n",
       "      <td>...</td>\n",
       "      <td>...</td>\n",
       "      <td>...</td>\n",
       "      <td>...</td>\n",
       "    </tr>\n",
       "    <tr>\n",
       "      <th>17</th>\n",
       "      <td>Woodstock Tower Hike</td>\n",
       "      <td>https://www.hikingupward.com/all_reviews.asp?H...</td>\n",
       "      <td>By: mike</td>\n",
       "      <td>2012-02-04</td>\n",
       "      <td>3</td>\n",
       "      <td>The view is great, trash along the trail not s...</td>\n",
       "    </tr>\n",
       "    <tr>\n",
       "      <th>18</th>\n",
       "      <td>Woodstock Tower Hike</td>\n",
       "      <td>https://www.hikingupward.com/all_reviews.asp?H...</td>\n",
       "      <td>&lt;!--  var contact = \"Zachary Taylor\"  var post...</td>\n",
       "      <td>2011-02-27</td>\n",
       "      <td>4</td>\n",
       "      <td>The Woodstock Tower provides the best view ava...</td>\n",
       "    </tr>\n",
       "    <tr>\n",
       "      <th>19</th>\n",
       "      <td>Woodstock Tower Hike</td>\n",
       "      <td>https://www.hikingupward.com/all_reviews.asp?H...</td>\n",
       "      <td>By: Bryan G</td>\n",
       "      <td>2010-10-24</td>\n",
       "      <td>1</td>\n",
       "      <td>Well we were short on time so we looked for a ...</td>\n",
       "    </tr>\n",
       "    <tr>\n",
       "      <th>15</th>\n",
       "      <td>Woodstock Tower Hike</td>\n",
       "      <td>https://www.hikingupward.com/all_reviews.asp?H...</td>\n",
       "      <td>By: Hobo Hiker</td>\n",
       "      <td>2017-08-05</td>\n",
       "      <td>5</td>\n",
       "      <td>I enjoyed the tower hike as a very quick simpl...</td>\n",
       "    </tr>\n",
       "    <tr>\n",
       "      <th>3852</th>\n",
       "      <td>Woody Ridge Trail Hike</td>\n",
       "      <td>http://www.hikingupward.com/PNF/WoodyRidgeTrail/</td>\n",
       "      <td>By: Zachary Robbins</td>\n",
       "      <td>NaT</td>\n",
       "      <td>4</td>\n",
       "      <td>Hiked this following the trail up and down fro...</td>\n",
       "    </tr>\n",
       "  </tbody>\n",
       "</table>\n",
       "<p>4897 rows × 6 columns</p>\n",
       "</div>"
      ],
      "text/plain": [
       "                                      hike  \\\n",
       "2121  Annapolis Rock/Black Rock Cliff Hike   \n",
       "2120  Annapolis Rock/Black Rock Cliff Hike   \n",
       "2137  Annapolis Rock/Black Rock Cliff Hike   \n",
       "2136  Annapolis Rock/Black Rock Cliff Hike   \n",
       "2135  Annapolis Rock/Black Rock Cliff Hike   \n",
       "...                                    ...   \n",
       "17                    Woodstock Tower Hike   \n",
       "18                    Woodstock Tower Hike   \n",
       "19                    Woodstock Tower Hike   \n",
       "15                    Woodstock Tower Hike   \n",
       "3852                Woody Ridge Trail Hike   \n",
       "\n",
       "                                                    url  \\\n",
       "2121  https://www.hikingupward.com/all_reviews.asp?H...   \n",
       "2120  https://www.hikingupward.com/all_reviews.asp?H...   \n",
       "2137  https://www.hikingupward.com/all_reviews.asp?H...   \n",
       "2136  https://www.hikingupward.com/all_reviews.asp?H...   \n",
       "2135  https://www.hikingupward.com/all_reviews.asp?H...   \n",
       "...                                                 ...   \n",
       "17    https://www.hikingupward.com/all_reviews.asp?H...   \n",
       "18    https://www.hikingupward.com/all_reviews.asp?H...   \n",
       "19    https://www.hikingupward.com/all_reviews.asp?H...   \n",
       "15    https://www.hikingupward.com/all_reviews.asp?H...   \n",
       "3852   http://www.hikingupward.com/PNF/WoodyRidgeTrail/   \n",
       "\n",
       "                                              commenter   hikeDate rating  \\\n",
       "2121                                        By: Susanna 2017-07-16      4   \n",
       "2120                                            By: Lyn 2017-10-22      4   \n",
       "2137  <!--  var contact = \"Gary D.\"  var posteddate ... 1912-07-22      3   \n",
       "2136                                           By: John 1914-05-18      4   \n",
       "2135  <!--  var contact = \"ajw\"  var posteddate = \"7... 2011-07-31      3   \n",
       "...                                                 ...        ...    ...   \n",
       "17                                             By: mike 2012-02-04      3   \n",
       "18    <!--  var contact = \"Zachary Taylor\"  var post... 2011-02-27      4   \n",
       "19                                          By: Bryan G 2010-10-24      1   \n",
       "15                                       By: Hobo Hiker 2017-08-05      5   \n",
       "3852                                By: Zachary Robbins        NaT      4   \n",
       "\n",
       "                                            description  \n",
       "2121  This was a beautiful (albeit crowded) hike -- ...  \n",
       "2120  This is a very nice hike. You have to walk a l...  \n",
       "2137  Sunday, starting at 0825. Hike time. including...  \n",
       "2136  This is a good hike for kids who can walk a fe...  \n",
       "2135  As HU observed, definitely not for anyone who ...  \n",
       "...                                                 ...  \n",
       "17    The view is great, trash along the trail not s...  \n",
       "18    The Woodstock Tower provides the best view ava...  \n",
       "19    Well we were short on time so we looked for a ...  \n",
       "15    I enjoyed the tower hike as a very quick simpl...  \n",
       "3852  Hiked this following the trail up and down fro...  \n",
       "\n",
       "[4897 rows x 6 columns]"
      ]
     },
     "execution_count": 3,
     "metadata": {},
     "output_type": "execute_result"
    }
   ],
   "source": [
    "dfC.sort_values('hike')"
   ]
  },
  {
   "cell_type": "markdown",
   "metadata": {},
   "source": [
    "## Rating EDA\n",
    "People just generaly rate things really high"
   ]
  },
  {
   "cell_type": "code",
   "execution_count": 4,
   "metadata": {},
   "outputs": [
    {
     "name": "stdout",
     "output_type": "stream",
     "text": [
      "Description:\n",
      " count    4897.000000\n",
      "mean        3.930570\n",
      "std         0.888193\n",
      "min         1.000000\n",
      "25%         3.000000\n",
      "50%         4.000000\n",
      "75%         5.000000\n",
      "max         5.000000\n",
      "Name: rating, dtype: float64\n",
      "\n",
      "Missing ratings:  0\n"
     ]
    },
    {
     "data": {
      "text/plain": [
       "Text(0.5, 1.0, 'Count of Ratings')"
      ]
     },
     "execution_count": 4,
     "metadata": {},
     "output_type": "execute_result"
    },
    {
     "data": {
      "image/png": "[encoded data removed]",
      "text/plain": [
       "<Figure size 432x288 with 1 Axes>"
      ]
     },
     "metadata": {
      "needs_background": "light"
     },
     "output_type": "display_data"
    }
   ],
   "source": [
    "#first want to get a holistic view of the rating\n",
    "dfC.rating = dfC.rating.apply(int)\n",
    "print('Description:\\n', dfC.rating.describe())\n",
    "print('\\nMissing ratings: ', dfC.rating.isna().sum())\n",
    "sns.countplot(dfC.rating, palette = 'Set2')\n",
    "plt.title('Count of Ratings')"
   ]
  },
  {
   "cell_type": "markdown",
   "metadata": {},
   "source": [
    "## Comments' Sentiment v. Rating\n",
    "Higher rated hikes do have higher sentiment values"
   ]
  },
  {
   "cell_type": "markdown",
   "metadata": {},
   "source": [
    "### Creating the sentiment variable"
   ]
  },
  {
   "cell_type": "code",
   "execution_count": 5,
   "metadata": {},
   "outputs": [],
   "source": [
    "def get_sentiment(document):\n",
    "    try:\n",
    "        #drop non-alpha, keep some punctuation in raw text\n",
    "        document = re.sub('[^a-z0-0\\.?!\\',]', ' ', document.lower())\n",
    "        blob = TextBlob(document.lower())\n",
    "        sentiment = blob.sentiment.polarity\n",
    "        \n",
    "        return sentiment\n",
    "    \n",
    "    except:\n",
    "        return None"
   ]
  },
  {
   "cell_type": "code",
   "execution_count": 6,
   "metadata": {
    "scrolled": false
   },
   "outputs": [
    {
     "name": "stdout",
     "output_type": "stream",
     "text": [
      "Example hike:\n",
      " Well we were short on time so we looked for a short hike and found this one. Figured the kids would like it. The trail head is actually in a camp ground and starts on an ATV trail. Walking on the ATV trail was a little difficult but it doesn't last for long. We did read that you can just park and go to the tower (about a 50 foot walk). The hike has a pretty decent ascent as you work the second leg of the cut backs, nothing to intense though. Well we made our way to the tower and thats the part we disliked. Trash was everywhere, lots of beer cans!! We encountered a lot of people at the tower that had just driven up there. The view was nice, but the people and the trash bothered me to much. We usually teach the kids if we encounter any trash on the trail we pick it up, we would of been up there for hours if we tried to clean that place up. If you want a great view and a short hike in this area go for buzzards's rock on of my families favorites!!\n",
      "\n",
      "Sentiment:  0.06\n",
      "\n",
      "Example hike:\n",
      " Great, short hike with amazing views. The trail going up to the Stony Man lookout was crowded, even on a weekday. No dogs allowed on this section, so we skipped it and continued on the white blazed trail. The views on the white blazed trail just before and at Little Stony Man were so beautiful and probably just as good as from Stony Man. Best of all, we met only two other hikers after getting onto the white blazed trail (a wonderful couple celebrating 57 years of marriage!). A note that we started this hike from the right side of the parking lot on the blue/white dotted trail and dogs are not allowed on this section (oops...). So be sure to start on the yellow blazed if you're with your dog.\n",
      "\n",
      "Sentiment:  0.3\n"
     ]
    }
   ],
   "source": [
    "print('Example hike:\\n', dfC.description[19])\n",
    "\n",
    "print('\\nSentiment: ', round(get_sentiment(dfC.description[19]), 2))\n",
    "\n",
    "print('\\nExample hike:\\n', dfC.description[250])\n",
    "\n",
    "print('\\nSentiment: ', round(get_sentiment(dfC.description[250]), 2))\n",
    "\n",
    "#TODO: try different sentiment function"
   ]
  },
  {
   "cell_type": "code",
   "execution_count": 7,
   "metadata": {},
   "outputs": [],
   "source": [
    "dfC['sentiment'] = dfC.description.apply(get_sentiment)"
   ]
  },
  {
   "cell_type": "markdown",
   "metadata": {},
   "source": [
    "## Comparing sentimet to the rating"
   ]
  },
  {
   "cell_type": "code",
   "execution_count": 8,
   "metadata": {},
   "outputs": [
    {
     "name": "stdout",
     "output_type": "stream",
     "text": [
      "count    4897.000000\n",
      "mean        0.191735\n",
      "std         0.133464\n",
      "min        -0.400000\n",
      "25%         0.111448\n",
      "50%         0.178889\n",
      "75%         0.261111\n",
      "max         1.000000\n",
      "Name: sentiment, dtype: float64\n"
     ]
    },
    {
     "data": {
      "text/plain": [
       "Text(0.5, 1.0, 'Rating by Sentiment')"
      ]
     },
     "execution_count": 8,
     "metadata": {},
     "output_type": "execute_result"
    },
    {
     "data": {
      "image/png": "[encoded data removed]",
      "text/plain": [
       "<Figure size 432x288 with 1 Axes>"
      ]
     },
     "metadata": {
      "needs_background": "light"
     },
     "output_type": "display_data"
    }
   ],
   "source": [
    "print(dfC.sentiment.describe())\n",
    "\n",
    "sns.boxplot(x=\"rating\", y=\"sentiment\", data=dfC, palette = 'Set2')\n",
    "plt.title('Rating by Sentiment')"
   ]
  },
  {
   "cell_type": "markdown",
   "metadata": {},
   "source": [
    "## Other Variables v. Rating"
   ]
  },
  {
   "cell_type": "markdown",
   "metadata": {},
   "source": [
    "### Creating an average rating and sentiment for each hike"
   ]
  },
  {
   "cell_type": "code",
   "execution_count": 9,
   "metadata": {
    "scrolled": false
   },
   "outputs": [],
   "source": [
    "dfC['hike'] = dfC.hike.apply(lambda x: x.replace(' Hike', ''))\n",
    "dfG = dfC.groupby('hike')['rating', 'sentiment'].mean()\n",
    "df = pd.merge(dfM, dfG, left_on = 'name', right_index = True, how = 'left')"
   ]
  },
  {
   "cell_type": "markdown",
   "metadata": {},
   "source": [
    "### Understanding the variables relation to the rating variable"
   ]
  },
  {
   "cell_type": "code",
   "execution_count": 10,
   "metadata": {},
   "outputs": [
    {
     "data": {
      "text/plain": [
       "<matplotlib.axes._subplots.AxesSubplot at 0x1b41f527da0>"
      ]
     },
     "execution_count": 10,
     "metadata": {},
     "output_type": "execute_result"
    },
    {
     "data": {
      "image/png": "[encoded data removed]",
      "text/plain": [
       "<Figure size 1440x720 with 6 Axes>"
      ]
     },
     "metadata": {
      "needs_background": "light"
     },
     "output_type": "display_data"
    }
   ],
   "source": [
    "fig, axes = plt.subplots(2, 3, figsize=(20, 10))\n",
    "\n",
    "for col in ['difficulty', 'length', 'streams', 'views', 'solitude']:\n",
    "    df[col] = df[col].apply(float)\n",
    "\n",
    "sns.boxplot(x=\"difficulty\", y=\"rating\", data=df, palette = 'Set2', ax = axes[0, 0])\n",
    "#people who really like hikes in general like the really hard ones?\n",
    "\n",
    "sns.boxplot(x=\"views\", y=\"rating\", data=df, palette = 'Set2', ax = axes[1, 0])\n",
    "#surpised there isn't more of a trend here; you would think good views = good hike\n",
    "\n",
    "sns.boxplot(x=\"streams\", y=\"rating\", data=df, palette = 'Set2', ax = axes[0, 1])\n",
    "#lots of water is definitely makes for a good hike\n",
    "\n",
    "sns.scatterplot(x=\"length\", y=\"rating\", data=df, palette = 'Set2', ax = axes[1, 1])\n",
    "#apparently people generally know what they're getting themselves into :)\n",
    "\n",
    "sns.boxplot(x=\"solitude\", y=\"rating\", data=df, palette = 'Set2', ax = axes[0, 2])\n",
    "#popular hikes have more people because they're really good hikes, quiet hikes are nice because they're quiet\n",
    "\n",
    "sns.scatterplot(x=\"sentiment\", y=\"rating\", data=df, palette = 'Set2', ax = axes[1, 2])\n",
    "#people just really rate hikes highly, again should prob try a different sentiment fn"
   ]
  },
  {
   "cell_type": "markdown",
   "metadata": {},
   "source": [
    "## Testing just a OLS model"
   ]
  },
  {
   "cell_type": "code",
   "execution_count": 11,
   "metadata": {},
   "outputs": [
    {
     "name": "stdout",
     "output_type": "stream",
     "text": [
      "                            OLS Regression Results                            \n",
      "==============================================================================\n",
      "Dep. Variable:                 rating   R-squared:                       0.104\n",
      "Model:                            OLS   Adj. R-squared:                  0.092\n",
      "Method:                 Least Squares   F-statistic:                     8.624\n",
      "Date:                Sun, 07 Jun 2020   Prob (F-statistic):           1.93e-05\n",
      "Time:                        20:02:51   Log-Likelihood:                -201.71\n",
      "No. Observations:                 227   AIC:                             411.4\n",
      "Df Residuals:                     223   BIC:                             425.1\n",
      "Df Model:                           3                                         \n",
      "Covariance Type:            nonrobust                                         \n",
      "==============================================================================\n",
      "                 coef    std err          t      P>|t|      [0.025      0.975]\n",
      "------------------------------------------------------------------------------\n",
      "Intercept      2.9269      0.180     16.253      0.000       2.572       3.282\n",
      "streams        0.0386      0.012      3.184      0.002       0.015       0.062\n",
      "views          0.0386      0.012      3.184      0.002       0.015       0.062\n",
      "solitude       0.1147      0.029      3.986      0.000       0.058       0.171\n",
      "sentiment      1.6881      0.557      3.032      0.003       0.591       2.785\n",
      "==============================================================================\n",
      "Omnibus:                       13.932   Durbin-Watson:                   1.737\n",
      "Prob(Omnibus):                  0.001   Jarque-Bera (JB):               23.016\n",
      "Skew:                          -0.351   Prob(JB):                     1.01e-05\n",
      "Kurtosis:                       4.393   Cond. No.                     8.19e+16\n",
      "==============================================================================\n",
      "\n",
      "Warnings:\n",
      "[1] Standard Errors assume that the covariance matrix of the errors is correctly specified.\n",
      "[2] The smallest eigenvalue is 8.91e-31. This might indicate that there are\n",
      "strong multicollinearity problems or that the design matrix is singular.\n"
     ]
    }
   ],
   "source": [
    "rating_variables = sm.ols(formula=\"rating ~ streams + views + solitude + sentiment\", data=df).fit()\n",
    "print(rating_variables.summary())"
   ]
  }
 ],
 "metadata": {
  "kernelspec": {
   "display_name": "Python 3",
   "language": "python",
   "name": "python3"
  },
  "language_info": {
   "codemirror_mode": {
    "name": "ipython",
    "version": 3
   },
   "file_extension": ".py",
   "mimetype": "text/x-python",
   "name": "python",
   "nbconvert_exporter": "python",
   "pygments_lexer": "ipython3",
   "version": "3.7.1"
  }
 },
 "nbformat": 4,
 "nbformat_minor": 2
}
